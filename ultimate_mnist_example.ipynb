{
 "cells": [
  {
   "cell_type": "markdown",
   "metadata": {},
   "source": [
    "# Ultimate MNIST Example\n",
    "I know, I know... MNIST dataset has been used in all kind of examples about machine learning. However, when I was starting out, I didn't find any example that was simple enough to understand and complex enough to don't be too simplistic.\n",
    "\n",
    "Although MNIST is old-fashioned, I think is a good place to start because it introduces the core fundamentals of machine learning and at the same time, it combines other necessary skills such as data manipulation and visualization. So I decided to build this simple model together with an explanation for new practitioners who can't find any good examples.\n",
    "\n",
    "I throw in some jokes to make it lighter. All of them are pretty average, so expect a normal distribution of your laughs."
   ]
  },
  {
   "cell_type": "code",
   "execution_count": 1,
   "metadata": {},
   "outputs": [
    {
     "name": "stderr",
     "output_type": "stream",
     "text": [
      "Using TensorFlow backend.\n"
     ]
    }
   ],
   "source": [
    "import warnings\n",
    "warnings.filterwarnings('ignore')\n",
    "\n",
    "import numpy as np\n",
    "from keras.datasets import mnist\n",
    "from keras.models import Sequential\n",
    "from keras.layers import Dense, Flatten\n",
    "from keras.utils import to_categorical \n",
    "\n",
    "import matplotlib.pyplot as plt\n",
    "import seaborn as sns\n",
    "sns.set() # I love seaborn aesthetics."
   ]
  },
  {
   "cell_type": "markdown",
   "metadata": {},
   "source": [
    "We will be using a keras *sequential* model for this example, along with *dense* and *flatten* layers. We will use *matplotlib* for plotting the performance metrics. *to_categorical* function and *numpy* will be useful for transforming the data.\n",
    "\n",
    "I invite you to try other classification models and compare the results to get some insights. I recommend taking a look at the [scikit-learn](http://scikit-learn.org/) library for other models."
   ]
  },
  {
   "cell_type": "markdown",
   "metadata": {},
   "source": [
    "&nbsp;\n",
    "&nbsp;\n",
    "***\n",
    "# Import the dataset and set the parameters\n",
    "Without importing the dataset the project will become quite difficult so let's do that and then define the parameters we will be using for our model."
   ]
  },
  {
   "cell_type": "code",
   "execution_count": 2,
   "metadata": {},
   "outputs": [],
   "source": [
    "(x_train, y_train), (x_test, y_test) = mnist.load_data() # https://keras.io/datasets/\n",
    "\n",
    "num_epochs = 10\n",
    "num_hidden_neurons = 50\n",
    "num_classes = 10\n",
    "validation = 0.3"
   ]
  },
  {
   "cell_type": "markdown",
   "metadata": {},
   "source": [
    "&nbsp;\n",
    "&nbsp;\n",
    "***\n",
    "# Explore the data\n",
    "You will get tired of hearing that any good data science project starts by exploring the data. So... let's begin with that."
   ]
  },
  {
   "cell_type": "code",
   "execution_count": 3,
   "metadata": {
    "scrolled": true
   },
   "outputs": [
    {
     "data": {
      "text/plain": [
       "array([[[0, 0, 0, ..., 0, 0, 0],\n",
       "        [0, 0, 0, ..., 0, 0, 0],\n",
       "        [0, 0, 0, ..., 0, 0, 0],\n",
       "        ...,\n",
       "        [0, 0, 0, ..., 0, 0, 0],\n",
       "        [0, 0, 0, ..., 0, 0, 0],\n",
       "        [0, 0, 0, ..., 0, 0, 0]],\n",
       "\n",
       "       [[0, 0, 0, ..., 0, 0, 0],\n",
       "        [0, 0, 0, ..., 0, 0, 0],\n",
       "        [0, 0, 0, ..., 0, 0, 0],\n",
       "        ...,\n",
       "        [0, 0, 0, ..., 0, 0, 0],\n",
       "        [0, 0, 0, ..., 0, 0, 0],\n",
       "        [0, 0, 0, ..., 0, 0, 0]],\n",
       "\n",
       "       [[0, 0, 0, ..., 0, 0, 0],\n",
       "        [0, 0, 0, ..., 0, 0, 0],\n",
       "        [0, 0, 0, ..., 0, 0, 0],\n",
       "        ...,\n",
       "        [0, 0, 0, ..., 0, 0, 0],\n",
       "        [0, 0, 0, ..., 0, 0, 0],\n",
       "        [0, 0, 0, ..., 0, 0, 0]],\n",
       "\n",
       "       ...,\n",
       "\n",
       "       [[0, 0, 0, ..., 0, 0, 0],\n",
       "        [0, 0, 0, ..., 0, 0, 0],\n",
       "        [0, 0, 0, ..., 0, 0, 0],\n",
       "        ...,\n",
       "        [0, 0, 0, ..., 0, 0, 0],\n",
       "        [0, 0, 0, ..., 0, 0, 0],\n",
       "        [0, 0, 0, ..., 0, 0, 0]],\n",
       "\n",
       "       [[0, 0, 0, ..., 0, 0, 0],\n",
       "        [0, 0, 0, ..., 0, 0, 0],\n",
       "        [0, 0, 0, ..., 0, 0, 0],\n",
       "        ...,\n",
       "        [0, 0, 0, ..., 0, 0, 0],\n",
       "        [0, 0, 0, ..., 0, 0, 0],\n",
       "        [0, 0, 0, ..., 0, 0, 0]],\n",
       "\n",
       "       [[0, 0, 0, ..., 0, 0, 0],\n",
       "        [0, 0, 0, ..., 0, 0, 0],\n",
       "        [0, 0, 0, ..., 0, 0, 0],\n",
       "        ...,\n",
       "        [0, 0, 0, ..., 0, 0, 0],\n",
       "        [0, 0, 0, ..., 0, 0, 0],\n",
       "        [0, 0, 0, ..., 0, 0, 0]]], dtype=uint8)"
      ]
     },
     "execution_count": 3,
     "metadata": {},
     "output_type": "execute_result"
    }
   ],
   "source": [
    "x_train # ALL of the digits."
   ]
  },
  {
   "cell_type": "code",
   "execution_count": 4,
   "metadata": {
    "scrolled": true
   },
   "outputs": [
    {
     "data": {
      "text/plain": [
       "array([[  0,   0,   0,   0,   0,   0,   0,   0,   0,   0,   0,   0,   0,\n",
       "          0,   0,   0,   0,   0,   0,   0,   0,   0,   0,   0,   0,   0,\n",
       "          0,   0],\n",
       "       [  0,   0,   0,   0,   0,   0,   0,   0,   0,   0,   0,   0,   0,\n",
       "          0,   0,   0,   0,   0,   0,   0,   0,   0,   0,   0,   0,   0,\n",
       "          0,   0],\n",
       "       [  0,   0,   0,   0,   0,   0,   0,   0,   0,   0,   0,   0,   0,\n",
       "          0,   0,   0,   0,   0,   0,   0,   0,   0,   0,   0,   0,   0,\n",
       "          0,   0],\n",
       "       [  0,   0,   0,   0,   0,   0,   0,   0,   0,   0,   0,   0,   0,\n",
       "          0,   0,   0,   0,   0,   0,   0,   0,   0,   0,   0,   0,   0,\n",
       "          0,   0],\n",
       "       [  0,   0,   0,   0,   0,   0,   0,   0,   0,   0,   0,   0,   0,\n",
       "          0,   0,   0,   0,   0,   0,   0,   0,   0,   0,   0,   0,   0,\n",
       "          0,   0],\n",
       "       [  0,   0,   0,   0,   0,   0,   0,   0,   0,   0,   0,   0,   3,\n",
       "         18,  18,  18, 126, 136, 175,  26, 166, 255, 247, 127,   0,   0,\n",
       "          0,   0],\n",
       "       [  0,   0,   0,   0,   0,   0,   0,   0,  30,  36,  94, 154, 170,\n",
       "        253, 253, 253, 253, 253, 225, 172, 253, 242, 195,  64,   0,   0,\n",
       "          0,   0],\n",
       "       [  0,   0,   0,   0,   0,   0,   0,  49, 238, 253, 253, 253, 253,\n",
       "        253, 253, 253, 253, 251,  93,  82,  82,  56,  39,   0,   0,   0,\n",
       "          0,   0],\n",
       "       [  0,   0,   0,   0,   0,   0,   0,  18, 219, 253, 253, 253, 253,\n",
       "        253, 198, 182, 247, 241,   0,   0,   0,   0,   0,   0,   0,   0,\n",
       "          0,   0],\n",
       "       [  0,   0,   0,   0,   0,   0,   0,   0,  80, 156, 107, 253, 253,\n",
       "        205,  11,   0,  43, 154,   0,   0,   0,   0,   0,   0,   0,   0,\n",
       "          0,   0],\n",
       "       [  0,   0,   0,   0,   0,   0,   0,   0,   0,  14,   1, 154, 253,\n",
       "         90,   0,   0,   0,   0,   0,   0,   0,   0,   0,   0,   0,   0,\n",
       "          0,   0],\n",
       "       [  0,   0,   0,   0,   0,   0,   0,   0,   0,   0,   0, 139, 253,\n",
       "        190,   2,   0,   0,   0,   0,   0,   0,   0,   0,   0,   0,   0,\n",
       "          0,   0],\n",
       "       [  0,   0,   0,   0,   0,   0,   0,   0,   0,   0,   0,  11, 190,\n",
       "        253,  70,   0,   0,   0,   0,   0,   0,   0,   0,   0,   0,   0,\n",
       "          0,   0],\n",
       "       [  0,   0,   0,   0,   0,   0,   0,   0,   0,   0,   0,   0,  35,\n",
       "        241, 225, 160, 108,   1,   0,   0,   0,   0,   0,   0,   0,   0,\n",
       "          0,   0],\n",
       "       [  0,   0,   0,   0,   0,   0,   0,   0,   0,   0,   0,   0,   0,\n",
       "         81, 240, 253, 253, 119,  25,   0,   0,   0,   0,   0,   0,   0,\n",
       "          0,   0],\n",
       "       [  0,   0,   0,   0,   0,   0,   0,   0,   0,   0,   0,   0,   0,\n",
       "          0,  45, 186, 253, 253, 150,  27,   0,   0,   0,   0,   0,   0,\n",
       "          0,   0],\n",
       "       [  0,   0,   0,   0,   0,   0,   0,   0,   0,   0,   0,   0,   0,\n",
       "          0,   0,  16,  93, 252, 253, 187,   0,   0,   0,   0,   0,   0,\n",
       "          0,   0],\n",
       "       [  0,   0,   0,   0,   0,   0,   0,   0,   0,   0,   0,   0,   0,\n",
       "          0,   0,   0,   0, 249, 253, 249,  64,   0,   0,   0,   0,   0,\n",
       "          0,   0],\n",
       "       [  0,   0,   0,   0,   0,   0,   0,   0,   0,   0,   0,   0,   0,\n",
       "          0,  46, 130, 183, 253, 253, 207,   2,   0,   0,   0,   0,   0,\n",
       "          0,   0],\n",
       "       [  0,   0,   0,   0,   0,   0,   0,   0,   0,   0,   0,   0,  39,\n",
       "        148, 229, 253, 253, 253, 250, 182,   0,   0,   0,   0,   0,   0,\n",
       "          0,   0],\n",
       "       [  0,   0,   0,   0,   0,   0,   0,   0,   0,   0,  24, 114, 221,\n",
       "        253, 253, 253, 253, 201,  78,   0,   0,   0,   0,   0,   0,   0,\n",
       "          0,   0],\n",
       "       [  0,   0,   0,   0,   0,   0,   0,   0,  23,  66, 213, 253, 253,\n",
       "        253, 253, 198,  81,   2,   0,   0,   0,   0,   0,   0,   0,   0,\n",
       "          0,   0],\n",
       "       [  0,   0,   0,   0,   0,   0,  18, 171, 219, 253, 253, 253, 253,\n",
       "        195,  80,   9,   0,   0,   0,   0,   0,   0,   0,   0,   0,   0,\n",
       "          0,   0],\n",
       "       [  0,   0,   0,   0,  55, 172, 226, 253, 253, 253, 253, 244, 133,\n",
       "         11,   0,   0,   0,   0,   0,   0,   0,   0,   0,   0,   0,   0,\n",
       "          0,   0],\n",
       "       [  0,   0,   0,   0, 136, 253, 253, 253, 212, 135, 132,  16,   0,\n",
       "          0,   0,   0,   0,   0,   0,   0,   0,   0,   0,   0,   0,   0,\n",
       "          0,   0],\n",
       "       [  0,   0,   0,   0,   0,   0,   0,   0,   0,   0,   0,   0,   0,\n",
       "          0,   0,   0,   0,   0,   0,   0,   0,   0,   0,   0,   0,   0,\n",
       "          0,   0],\n",
       "       [  0,   0,   0,   0,   0,   0,   0,   0,   0,   0,   0,   0,   0,\n",
       "          0,   0,   0,   0,   0,   0,   0,   0,   0,   0,   0,   0,   0,\n",
       "          0,   0],\n",
       "       [  0,   0,   0,   0,   0,   0,   0,   0,   0,   0,   0,   0,   0,\n",
       "          0,   0,   0,   0,   0,   0,   0,   0,   0,   0,   0,   0,   0,\n",
       "          0,   0]], dtype=uint8)"
      ]
     },
     "execution_count": 4,
     "metadata": {},
     "output_type": "execute_result"
    }
   ],
   "source": [
    "x_train[0] # A single, lonely, one."
   ]
  },
  {
   "cell_type": "code",
   "execution_count": 5,
   "metadata": {},
   "outputs": [
    {
     "data": {
      "text/plain": [
       "array([5, 0, 4, ..., 5, 6, 8], dtype=uint8)"
      ]
     },
     "execution_count": 5,
     "metadata": {},
     "output_type": "execute_result"
    }
   ],
   "source": [
    "y_train # Digit labels'."
   ]
  },
  {
   "cell_type": "code",
   "execution_count": 6,
   "metadata": {},
   "outputs": [
    {
     "name": "stdout",
     "output_type": "stream",
     "text": [
      "Train X and Y shapes:  (60000, 28, 28) (60000,)\n",
      "Test X and Y shapes:   (10000, 28, 28) (10000,)\n"
     ]
    }
   ],
   "source": [
    "print('Train X and Y shapes: ', x_train.shape, y_train.shape)\n",
    "print('Test X and Y shapes:  ', x_test.shape, y_test.shape)"
   ]
  },
  {
   "cell_type": "code",
   "execution_count": 7,
   "metadata": {
    "scrolled": true
   },
   "outputs": [
    {
     "data": {
      "text/plain": [
       "(28, 28)"
      ]
     },
     "execution_count": 7,
     "metadata": {},
     "output_type": "execute_result"
    }
   ],
   "source": [
    "x_train[0].shape # Shape of a single digit."
   ]
  },
  {
   "cell_type": "markdown",
   "metadata": {},
   "source": [
    "Also, when working with images it's always useful to print them for being able to see the big picture (I told you the jokes were pretty average)"
   ]
  },
  {
   "cell_type": "code",
   "execution_count": 8,
   "metadata": {},
   "outputs": [
    {
     "data": {
      "image/png": "[encoded data removed]",
      "text/plain": [
       "<Figure size 432x288 with 1 Axes>"
      ]
     },
     "metadata": {},
     "output_type": "display_data"
    },
    {
     "data": {
      "image/png": "[encoded data removed]",
      "text/plain": [
       "<Figure size 432x288 with 1 Axes>"
      ]
     },
     "metadata": {},
     "output_type": "display_data"
    },
    {
     "data": {
      "image/png": "[encoded data removed]",
      "text/plain": [
       "<Figure size 432x288 with 1 Axes>"
      ]
     },
     "metadata": {},
     "output_type": "display_data"
    },
    {
     "data": {
      "image/png": "[encoded data removed]",
      "text/plain": [
       "<Figure size 432x288 with 1 Axes>"
      ]
     },
     "metadata": {},
     "output_type": "display_data"
    },
    {
     "data": {
      "image/png": "[encoded data removed]",
      "text/plain": [
       "<Figure size 432x288 with 1 Axes>"
      ]
     },
     "metadata": {},
     "output_type": "display_data"
    },
    {
     "data": {
      "image/png": "[encoded data removed]",
      "text/plain": [
       "<Figure size 432x288 with 1 Axes>"
      ]
     },
     "metadata": {},
     "output_type": "display_data"
    },
    {
     "data": {
      "image/png": "[encoded data removed]",
      "text/plain": [
       "<Figure size 432x288 with 1 Axes>"
      ]
     },
     "metadata": {},
     "output_type": "display_data"
    },
    {
     "data": {
      "image/png": "[encoded data removed]",
      "text/plain": [
       "<Figure size 432x288 with 1 Axes>"
      ]
     },
     "metadata": {},
     "output_type": "display_data"
    },
    {
     "data": {
      "image/png": "[encoded data removed]",
      "text/plain": [
       "<Figure size 432x288 with 1 Axes>"
      ]
     },
     "metadata": {},
     "output_type": "display_data"
    },
    {
     "data": {
      "image/png": "[encoded data removed]",
      "text/plain": [
       "<Figure size 432x288 with 1 Axes>"
      ]
     },
     "metadata": {},
     "output_type": "display_data"
    }
   ],
   "source": [
    "for digit, label in zip(x_train[:10], y_train[:10]):\n",
    "    plt.imshow(digit, cmap='gray')\n",
    "    plt.title('This is a {}'.format(label))\n",
    "    plt.show()"
   ]
  },
  {
   "cell_type": "markdown",
   "metadata": {},
   "source": [
    "&nbsp;\n",
    "&nbsp;\n",
    "***\n",
    "# Reshape data for the model\n",
    "Now that we understand how is the data, we can begin to transform it for making our job easier, and most importantly, possible."
   ]
  },
  {
   "cell_type": "code",
   "execution_count": 9,
   "metadata": {},
   "outputs": [],
   "source": [
    "# Normalize the values. (Pixel maximun val is 255)\n",
    "x_train = x_train = x_train / 255\n",
    "x_test = x_test = x_test / 255"
   ]
  },
  {
   "cell_type": "markdown",
   "metadata": {},
   "source": [
    "In our MNIST data, 255 meant full brightness, while 0 was complete darkness and fear.\n",
    "\n",
    "Unlike us, neural networks don't fear zeros, they dislike values that are too spread, so by dividing by 255 we are clamping all the values between 0 and 1. Our model will thank us later, don't worry."
   ]
  },
  {
   "cell_type": "markdown",
   "metadata": {},
   "source": [
    "Our target data is jealous, she also wants a new look."
   ]
  },
  {
   "cell_type": "code",
   "execution_count": 10,
   "metadata": {},
   "outputs": [],
   "source": [
    "# Convert ys to categoricals to match the number of neurons on the output layer.\n",
    "y_train = to_categorical(y_train)\n",
    "y_test = to_categorical(y_test)"
   ]
  },
  {
   "cell_type": "code",
   "execution_count": 11,
   "metadata": {
    "scrolled": true
   },
   "outputs": [
    {
     "data": {
      "text/plain": [
       "array([[0., 0., 0., ..., 1., 0., 0.],\n",
       "       [0., 0., 1., ..., 0., 0., 0.],\n",
       "       [0., 1., 0., ..., 0., 0., 0.],\n",
       "       ...,\n",
       "       [0., 0., 0., ..., 0., 0., 0.],\n",
       "       [0., 0., 0., ..., 0., 0., 0.],\n",
       "       [0., 0., 0., ..., 0., 0., 0.]], dtype=float32)"
      ]
     },
     "execution_count": 11,
     "metadata": {},
     "output_type": "execute_result"
    }
   ],
   "source": [
    "y_test"
   ]
  },
  {
   "cell_type": "markdown",
   "metadata": {},
   "source": [
    "Our model will predict probabilities for each number, so it needs to have each digit as a unique kind of row. In this case, the third number corresponds to a 2.\n",
    "\n",
    "Using to_categorical makes this job easier, but watch out if you are building some kind of portfolio, because you won't be able to show off your fancy *numpy* tricks."
   ]
  },
  {
   "cell_type": "markdown",
   "metadata": {},
   "source": [
    "&nbsp;\n",
    "&nbsp;\n",
    "***\n",
    "# Initialize the sequential model\n",
    "Now that our data is finally ready, we can create the sequential model.\n",
    "\n",
    "We will write a function to test a different number of layers and compare the results. The function isn't necessary, but later on, you will thank yourself for saving the extra work. (Also is useful to write functions like this one because it's the way to [tune your parameters](https://machinelearningmastery.com/grid-search-hyperparameters-deep-learning-models-python-keras/), but that tech is more advanced)"
   ]
  },
  {
   "cell_type": "code",
   "execution_count": 12,
   "metadata": {},
   "outputs": [],
   "source": [
    "def make_model(num_layers=0):\n",
    "    \"\"\"\n",
    "    Returns a compiled sequential model with a default hidden layer,\n",
    "    followed by a specified number of hidden layers and an output one.\n",
    "    \"\"\"\n",
    "    model = Sequential()\n",
    "    \n",
    "    # Add a flatten layer to reshape the array.\n",
    "    model.add(Flatten())\n",
    "    \n",
    "    # Add num_layers of hidden layers.\n",
    "    for i in range(num_layers):\n",
    "        model.add(Dense(num_hidden_neurons, activation='relu'))\n",
    "        \n",
    "    # Add the output layer.\n",
    "    model.add(Dense(num_classes, activation='softmax'))\n",
    "    \n",
    "    # Return the compiled model.\n",
    "    model.compile(optimizer='sgd', loss='categorical_crossentropy', metrics=['accuracy'])\n",
    "    \n",
    "    return model"
   ]
  },
  {
   "cell_type": "markdown",
   "metadata": {},
   "source": [
    "Jokes aside, this is an important step, so let's break it down:\n",
    "- After instantiating our model we add a Flatten layer. This layer reshapes/flattens our data into a 1-D array. If we didn't use one, we will have to specify an input_dim/input_shape for our first hidden layer. The Flatten layer transforms our 28x28 input to a 784 single array.\n",
    "\n",
    "\n",
    "- Then we add as many layers as the user specifies using the activation function named 'relu'. There are other functions but that explanation is beyond the scope of this notebook. However 'relu' is the most common one.\n",
    "\n",
    "\n",
    "- The 'output' layer is also unique: it has as many neurons (outputs) as possible classes (digits). The activation 'softmax' allows us to output the probabilities of the prediction. Having probabilities is important because we can know which number it predicted and how confident the model is about that prediction.\n",
    "\n",
    "\n",
    "- To conclude we compile the model, the parameters used here are too complicated to explain in detail. That being said, the keras documentation specifies them as the ones to use for this kind of classification: [Getting started with the Keras Sequential model](https://keras.io/getting-started/sequential-model-guide/)"
   ]
  },
  {
   "cell_type": "code",
   "execution_count": 13,
   "metadata": {
    "scrolled": false
   },
   "outputs": [
    {
     "name": "stdout",
     "output_type": "stream",
     "text": [
      "Train on 42000 samples, validate on 18000 samples\n",
      "Epoch 1/10\n",
      "42000/42000 [==============================] - 4s 106us/step - loss: 0.8825 - acc: 0.7959 - val_loss: 0.5477 - val_acc: 0.8677\n",
      "Epoch 2/10\n",
      "42000/42000 [==============================] - 3s 81us/step - loss: 0.5048 - acc: 0.8730 - val_loss: 0.4482 - val_acc: 0.8832\n",
      "Epoch 3/10\n",
      "42000/42000 [==============================] - 3s 80us/step - loss: 0.4384 - acc: 0.8840 - val_loss: 0.4084 - val_acc: 0.8886\n",
      "Epoch 4/10\n",
      "42000/42000 [==============================] - 3s 80us/step - loss: 0.4055 - acc: 0.8906 - val_loss: 0.3861 - val_acc: 0.8937\n",
      "Epoch 5/10\n",
      "42000/42000 [==============================] - 3s 80us/step - loss: 0.3849 - acc: 0.8953 - val_loss: 0.3707 - val_acc: 0.8980\n",
      "Epoch 6/10\n",
      "42000/42000 [==============================] - 3s 80us/step - loss: 0.3703 - acc: 0.8980 - val_loss: 0.3606 - val_acc: 0.9002\n",
      "Epoch 7/10\n",
      "42000/42000 [==============================] - 3s 81us/step - loss: 0.3592 - acc: 0.9005 - val_loss: 0.3518 - val_acc: 0.9016\n",
      "Epoch 8/10\n",
      "42000/42000 [==============================] - 3s 80us/step - loss: 0.3505 - acc: 0.9027 - val_loss: 0.3457 - val_acc: 0.9036\n",
      "Epoch 9/10\n",
      "42000/42000 [==============================] - 3s 80us/step - loss: 0.3433 - acc: 0.9040 - val_loss: 0.3412 - val_acc: 0.9042\n",
      "Epoch 10/10\n",
      "42000/42000 [==============================] - 3s 81us/step - loss: 0.3374 - acc: 0.9060 - val_loss: 0.3364 - val_acc: 0.9066\n"
     ]
    }
   ],
   "source": [
    "model = make_model()\n",
    "history_1 = model.fit(x_train, y_train, validation_split=validation, epochs=num_epochs)"
   ]
  },
  {
   "cell_type": "markdown",
   "metadata": {},
   "source": [
    "As we can see our model was fitted successfully and we got an impressive 90% validation accuracy.\n",
    "\n",
    "One thing to keep in mind: when you fit a model a History object is returned. These object's parameters contain information about the fitted model."
   ]
  },
  {
   "cell_type": "code",
   "execution_count": 14,
   "metadata": {},
   "outputs": [
    {
     "name": "stdout",
     "output_type": "stream",
     "text": [
      "10000/10000 [==============================] - 0s 33us/step\n"
     ]
    },
    {
     "data": {
      "text/plain": [
       "[0.3203577217102051, 0.912]"
      ]
     },
     "execution_count": 14,
     "metadata": {},
     "output_type": "execute_result"
    }
   ],
   "source": [
    "model.evaluate(x_test, y_test)"
   ]
  },
  {
   "cell_type": "markdown",
   "metadata": {},
   "source": [
    "Using the evaluate method we can get more insight on how the model performs on new data. It returns the loss and the other metrics specified when the model was compiled, in this case, the accuracy."
   ]
  },
  {
   "cell_type": "code",
   "execution_count": 15,
   "metadata": {},
   "outputs": [
    {
     "name": "stdout",
     "output_type": "stream",
     "text": [
      "_________________________________________________________________\n",
      "Layer (type)                 Output Shape              Param #   \n",
      "=================================================================\n",
      "flatten_1 (Flatten)          (None, 784)               0         \n",
      "_________________________________________________________________\n",
      "dense_1 (Dense)              (None, 10)                7850      \n",
      "=================================================================\n",
      "Total params: 7,850\n",
      "Trainable params: 7,850\n",
      "Non-trainable params: 0\n",
      "_________________________________________________________________\n"
     ]
    }
   ],
   "source": [
    "model.summary()"
   ]
  },
  {
   "cell_type": "markdown",
   "metadata": {},
   "source": [
    "It's always useful to see our model summary to check if everything is on point."
   ]
  },
  {
   "cell_type": "markdown",
   "metadata": {},
   "source": [
    "&nbsp;\n",
    "&nbsp;\n",
    "***\n",
    "# Ploting the results\n",
    "Now it's time to get fancy plotting our results with the power of matplotlib. We will define a function to make our job easier for later on."
   ]
  },
  {
   "cell_type": "code",
   "execution_count": 16,
   "metadata": {},
   "outputs": [],
   "source": [
    "def plot_results(History):\n",
    "    ''' Plots the metrics of a model. '''\n",
    "    for key in History.history.keys():\n",
    "        plt.plot(range(1, num_epochs+1), History.history[key])\n",
    "    \n",
    "    plt.xlabel('epochs')\n",
    "    plt.ylabel('score')\n",
    "    plt.legend(list(History.history.keys()))\n",
    "    plt.show()"
   ]
  },
  {
   "cell_type": "markdown",
   "metadata": {},
   "source": [
    "One of the parameters of a History object is history. Despite sharing that awful same name, is quite useful because it contains the history (I'm sorry) of our trained model."
   ]
  },
  {
   "cell_type": "code",
   "execution_count": 17,
   "metadata": {
    "scrolled": false
   },
   "outputs": [
    {
     "data": {
      "image/png": "[encoded data removed]",
      "text/plain": [
       "<Figure size 432x288 with 1 Axes>"
      ]
     },
     "metadata": {},
     "output_type": "display_data"
    }
   ],
   "source": [
    "plot_results(history_1)"
   ]
  },
  {
   "cell_type": "markdown",
   "metadata": {},
   "source": [
    "&nbsp;\n",
    "&nbsp;\n",
    "***\n",
    "# Bonus\n",
    "Now it's time to feel good about ourselves by using those pretty functions that we wrote. Let's see what happens with more layers!\n",
    "\n",
    "(I'm really excited, you can tell by the '!')"
   ]
  },
  {
   "cell_type": "code",
   "execution_count": 18,
   "metadata": {},
   "outputs": [
    {
     "name": "stdout",
     "output_type": "stream",
     "text": [
      "Train on 42000 samples, validate on 18000 samples\n",
      "Epoch 1/10\n",
      "42000/42000 [==============================] - 5s 108us/step - loss: 0.9168 - acc: 0.7420 - val_loss: 0.3875 - val_acc: 0.8862\n",
      "Epoch 2/10\n",
      "42000/42000 [==============================] - 4s 103us/step - loss: 0.3395 - acc: 0.9014 - val_loss: 0.3007 - val_acc: 0.9104\n",
      "Epoch 3/10\n",
      "42000/42000 [==============================] - 4s 103us/step - loss: 0.2764 - acc: 0.9200 - val_loss: 0.2569 - val_acc: 0.9246\n",
      "Epoch 4/10\n",
      "42000/42000 [==============================] - 4s 103us/step - loss: 0.2392 - acc: 0.9304 - val_loss: 0.2284 - val_acc: 0.9329\n",
      "Epoch 5/10\n",
      "42000/42000 [==============================] - 4s 103us/step - loss: 0.2102 - acc: 0.9386 - val_loss: 0.2301 - val_acc: 0.9292\n",
      "Epoch 6/10\n",
      "42000/42000 [==============================] - 4s 103us/step - loss: 0.1884 - acc: 0.9449 - val_loss: 0.1969 - val_acc: 0.9429\n",
      "Epoch 7/10\n",
      "42000/42000 [==============================] - 4s 103us/step - loss: 0.1698 - acc: 0.9505 - val_loss: 0.1817 - val_acc: 0.9466\n",
      "Epoch 8/10\n",
      "42000/42000 [==============================] - 4s 103us/step - loss: 0.1537 - acc: 0.9546 - val_loss: 0.1708 - val_acc: 0.9496\n",
      "Epoch 9/10\n",
      "42000/42000 [==============================] - 4s 103us/step - loss: 0.1413 - acc: 0.9590 - val_loss: 0.1638 - val_acc: 0.9517\n",
      "Epoch 10/10\n",
      "42000/42000 [==============================] - 4s 103us/step - loss: 0.1302 - acc: 0.9620 - val_loss: 0.1548 - val_acc: 0.9548\n"
     ]
    }
   ],
   "source": [
    "model = make_model(num_layers=3)\n",
    "history_2 = model.fit(x_train, y_train, validation_split=validation, epochs=num_epochs, shuffle=True)"
   ]
  },
  {
   "cell_type": "code",
   "execution_count": 19,
   "metadata": {},
   "outputs": [
    {
     "name": "stdout",
     "output_type": "stream",
     "text": [
      "_________________________________________________________________\n",
      "Layer (type)                 Output Shape              Param #   \n",
      "=================================================================\n",
      "flatten_2 (Flatten)          (None, 784)               0         \n",
      "_________________________________________________________________\n",
      "dense_2 (Dense)              (None, 50)                39250     \n",
      "_________________________________________________________________\n",
      "dense_3 (Dense)              (None, 50)                2550      \n",
      "_________________________________________________________________\n",
      "dense_4 (Dense)              (None, 50)                2550      \n",
      "_________________________________________________________________\n",
      "dense_5 (Dense)              (None, 10)                510       \n",
      "=================================================================\n",
      "Total params: 44,860\n",
      "Trainable params: 44,860\n",
      "Non-trainable params: 0\n",
      "_________________________________________________________________\n"
     ]
    }
   ],
   "source": [
    "model.summary()"
   ]
  },
  {
   "cell_type": "code",
   "execution_count": 20,
   "metadata": {},
   "outputs": [
    {
     "name": "stdout",
     "output_type": "stream",
     "text": [
      "10000/10000 [==============================] - 0s 37us/step\n"
     ]
    },
    {
     "data": {
      "text/plain": [
       "[0.13918808237314223, 0.9559]"
      ]
     },
     "execution_count": 20,
     "metadata": {},
     "output_type": "execute_result"
    }
   ],
   "source": [
    "model.evaluate(x_test, y_test)"
   ]
  },
  {
   "cell_type": "code",
   "execution_count": 21,
   "metadata": {
    "scrolled": false
   },
   "outputs": [
    {
     "data": {
      "image/png": "[encoded data removed]",
      "text/plain": [
       "<Figure size 432x288 with 1 Axes>"
      ]
     },
     "metadata": {},
     "output_type": "display_data"
    }
   ],
   "source": [
    "plot_results(history_2)"
   ]
  },
  {
   "cell_type": "markdown",
   "metadata": {},
   "source": [
    "Hopefully, you have learned something at the same time that you cracked some laughs. \n",
    "\n",
    "Before you start sharing this nootebooks with all of your friends (if you have those), I recommend you to stretch this exercise further that I have done. Sometimes you will learn more by squeezing one single project than working on a handful of projects in a superficial manner.\n",
    "\n",
    "So, here's a list of some improvements worth trying:\n",
    "- Try to underfit and overfit the model and understand how your plots are affected\n",
    "- Investigate ways to avoid overfitting. (Dropout layers are a good place to start)\n",
    "- Plot more meaningful information about your models, for example, you could compare different models in the same plot\n",
    "- Investigate convolutional networks and image proccessing for improving the model performance\n",
    "- Look for parameter optimization on the link I provided above. (and [here](https://keras.io/getting-started/sequential-model-guide/))\n",
    "\n",
    "Thanks for being here and don't forget to smile. Bye!"
   ]
  },
  {
   "cell_type": "markdown",
   "metadata": {},
   "source": [
    "&nbsp;\n",
    "&nbsp;\n",
    "***"
   ]
  }
 ],
 "metadata": {
  "kernelspec": {
   "display_name": "Python 3",
   "language": "python",
   "name": "python3"
  },
  "language_info": {
   "codemirror_mode": {
    "name": "ipython",
    "version": 3
   },
   "file_extension": ".py",
   "mimetype": "text/x-python",
   "name": "python",
   "nbconvert_exporter": "python",
   "pygments_lexer": "ipython3",
   "version": "3.6.5"
  }
 },
 "nbformat": 4,
 "nbformat_minor": 2
}
